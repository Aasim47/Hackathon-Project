{
 "cells": [
  {
   "cell_type": "markdown",
   "id": "121dc16c",
   "metadata": {},
   "source": [
    "Creating the Jupyter notebook interface"
   ]
  }
 ],
 "metadata": {
  "language_info": {
   "name": "python"
  }
 },
 "nbformat": 4,
 "nbformat_minor": 5
}
